{
 "cells": [
  {
   "cell_type": "markdown",
   "metadata": {},
   "source": [
    "#função DEF"
   ]
  },
  {
   "cell_type": "code",
   "execution_count": 7,
   "metadata": {},
   "outputs": [
    {
     "name": "stdout",
     "output_type": "stream",
     "text": [
      "correto\n",
      "30\n"
     ]
    }
   ],
   "source": [
    "def mult(a,b):\n",
    "    x = a * b\n",
    "    return x\n",
    "\n",
    "if mult(5,6) == 30:\n",
    "    print('correto')\n",
    "\n",
    "print(mult(5,6))"
   ]
  },
  {
   "cell_type": "code",
   "execution_count": 6,
   "metadata": {},
   "outputs": [
    {
     "name": "stdout",
     "output_type": "stream",
     "text": [
      "Olá!\n"
     ]
    }
   ],
   "source": [
    "def diga_ola():\n",
    "    print('Olá!')\n",
    "\n",
    "diga_ola()"
   ]
  },
  {
   "cell_type": "code",
   "execution_count": 12,
   "metadata": {},
   "outputs": [
    {
     "name": "stdout",
     "output_type": "stream",
     "text": [
      "(7, 3)\n",
      "(8, 4)\n"
     ]
    }
   ],
   "source": [
    "def ordena(a,b):\n",
    "    if a >  b:\n",
    "        return a, b\n",
    "    else:\n",
    "        return b, a\n",
    "\n",
    "print(ordena(3,7))\n",
    "print(ordena(8, 4))\n"
   ]
  },
  {
   "cell_type": "code",
   "execution_count": 14,
   "metadata": {},
   "outputs": [
    {
     "name": "stdout",
     "output_type": "stream",
     "text": [
      "Print A: 200\n",
      "Print B: 200\n",
      "Print C: 10\n",
      "Print D : 3\n",
      "Print E: 200\n"
     ]
    }
   ],
   "source": [
    "x = 200\n",
    "print('Print A:', x)\n",
    "\n",
    "def MostraX(x):\n",
    "    print('Print C:', x)\n",
    "    x = 3\n",
    "    print('Print D :', x)\n",
    "\n",
    "print('Print B:', x)\n",
    "MostraX(10)\n",
    "print('Print E:', x)"
   ]
  },
  {
   "cell_type": "markdown",
   "metadata": {},
   "source": [
    "#Função Lambda - anonima"
   ]
  },
  {
   "cell_type": "code",
   "execution_count": 17,
   "metadata": {},
   "outputs": [
    {
     "name": "stdout",
     "output_type": "stream",
     "text": [
      "True\n",
      "18000\n"
     ]
    }
   ],
   "source": [
    "verificar_se_e_par = lambda x: x % 2 == 0\n",
    "\n",
    "print(verificar_se_e_par(8))\n",
    "\n",
    "\n",
    "\n"
   ]
  },
  {
   "cell_type": "code",
   "execution_count": 18,
   "metadata": {},
   "outputs": [
    {
     "name": "stdout",
     "output_type": "stream",
     "text": [
      "18000\n"
     ]
    }
   ],
   "source": [
    "salario_anual = lambda salario: salario * 12\n",
    "\n",
    "print(salario_anual(1500))"
   ]
  },
  {
   "cell_type": "markdown",
   "metadata": {},
   "source": [
    "#Função MAP"
   ]
  },
  {
   "cell_type": "code",
   "execution_count": 22,
   "metadata": {},
   "outputs": [
    {
     "name": "stdout",
     "output_type": "stream",
     "text": [
      "[9, 16, 25]\n"
     ]
    }
   ],
   "source": [
    "quadrado = lambda x: x**2\n",
    "\n",
    "lista_quadrado = list(map(quadrado,[3,4,5]))\n",
    "print(lista_quadrado)\n"
   ]
  },
  {
   "cell_type": "code",
   "execution_count": 78,
   "metadata": {},
   "outputs": [
    {
     "name": "stdout",
     "output_type": "stream",
     "text": [
      "[5, 6, 5]\n",
      "[5, 6, 5]\n"
     ]
    }
   ],
   "source": [
    "nomes = ['Pedro', 'Carina', 'Vitor']\n",
    "tamanho = map(len, nomes)\n",
    "print(list(tamanho))\n",
    "\n",
    "tamanho = list(map(len, ['Pedro', 'Carina', 'Vitor']))\n",
    "print(tamanho)"
   ]
  },
  {
   "cell_type": "code",
   "execution_count": 24,
   "metadata": {},
   "outputs": [],
   "source": [
    "# Date / time"
   ]
  },
  {
   "cell_type": "code",
   "execution_count": 23,
   "metadata": {},
   "outputs": [],
   "source": [
    "from datetime import date"
   ]
  },
  {
   "cell_type": "code",
   "execution_count": 25,
   "metadata": {},
   "outputs": [
    {
     "name": "stdout",
     "output_type": "stream",
     "text": [
      "2023-10-15\n"
     ]
    }
   ],
   "source": [
    "aniversario = date(2023,10,15)\n",
    "print( aniversario)"
   ]
  },
  {
   "cell_type": "code",
   "execution_count": 26,
   "metadata": {},
   "outputs": [
    {
     "name": "stdout",
     "output_type": "stream",
     "text": [
      "2024-10-15\n"
     ]
    }
   ],
   "source": [
    "proximo_aniversario = aniversario.replace(year=aniversario.year+1)\n",
    "print(proximo_aniversario)"
   ]
  },
  {
   "cell_type": "code",
   "execution_count": 27,
   "metadata": {},
   "outputs": [
    {
     "name": "stdout",
     "output_type": "stream",
     "text": [
      "15/October/2023\n"
     ]
    }
   ],
   "source": [
    "formatado = aniversario.strftime('%d/%B/%Y')\n",
    "print(formatado)"
   ]
  },
  {
   "cell_type": "code",
   "execution_count": 28,
   "metadata": {},
   "outputs": [
    {
     "name": "stdout",
     "output_type": "stream",
     "text": [
      "2023-08-02\n"
     ]
    }
   ],
   "source": [
    "print(date.today())"
   ]
  },
  {
   "cell_type": "code",
   "execution_count": 31,
   "metadata": {},
   "outputs": [
    {
     "name": "stdout",
     "output_type": "stream",
     "text": [
      "2023-08-02 08:39:48.564373\n"
     ]
    },
    {
     "data": {
      "text/plain": [
       "datetime.datetime(2023, 8, 2, 8, 39, 48, 565371)"
      ]
     },
     "execution_count": 31,
     "metadata": {},
     "output_type": "execute_result"
    }
   ],
   "source": [
    "from datetime import datetime\n",
    "\n",
    "print(str(datetime.now()))\n",
    "\n",
    "datetime.now()"
   ]
  },
  {
   "cell_type": "code",
   "execution_count": 35,
   "metadata": {},
   "outputs": [],
   "source": [
    "from datetime import date, timedelta\n",
    "from dateutil.relativedelta import relativedelta"
   ]
  },
  {
   "cell_type": "code",
   "execution_count": 36,
   "metadata": {},
   "outputs": [
    {
     "name": "stdout",
     "output_type": "stream",
     "text": [
      "202304\n"
     ]
    }
   ],
   "source": [
    "hoje = datetime.today()\n",
    "data_defasada = hoje + relativedelta(months=-4)\n",
    "data_formatada = data_defasada.strftime('%Y%m')\n",
    "print(data_formatada)"
   ]
  },
  {
   "cell_type": "code",
   "execution_count": 37,
   "metadata": {},
   "outputs": [
    {
     "name": "stdout",
     "output_type": "stream",
     "text": [
      "202304\n"
     ]
    }
   ],
   "source": [
    "hoje = datetime.today()\n",
    "data_defasada = hoje + relativedelta(months=-4)\n",
    "data_formatada = data_defasada.strftime('%Y%m')\n",
    "print(data_formatada)"
   ]
  },
  {
   "cell_type": "code",
   "execution_count": 40,
   "metadata": {},
   "outputs": [
    {
     "name": "stdout",
     "output_type": "stream",
     "text": [
      "202305\n"
     ]
    }
   ],
   "source": [
    "def data_ajustada(defasagem = 0):\n",
    "    hoje = datetime.today()\n",
    "    data_defasada = hoje + relativedelta(months=-defasagem)\n",
    "    data_formatada = data_defasada.strftime('%Y%m')\n",
    "    return data_formatada\n",
    "\n",
    "print(data_ajustada(3))"
   ]
  },
  {
   "cell_type": "code",
   "execution_count": 41,
   "metadata": {},
   "outputs": [
    {
     "name": "stdout",
     "output_type": "stream",
     "text": [
      "77.0\n"
     ]
    }
   ],
   "source": [
    "def celsius_para_fahrenheit(celsius):\n",
    "    fahrenheit = (celsius * 9/5) + 32\n",
    "    return fahrenheit\n",
    "\n",
    "print(celsius_para_fahrenheit(25))"
   ]
  },
  {
   "cell_type": "markdown",
   "metadata": {},
   "source": [
    "#EXERCICIOS DE SALA"
   ]
  },
  {
   "cell_type": "markdown",
   "metadata": {},
   "source": [
    "#CRIE UMA FUNÇÃO LAMBDA CHAMADA EH_MULTIPLO_DEZ() QUE RETORNE TRUE SE UM DETERMINADO NUMERO É MULTIPLO DE 10 E FALSE CASO CONTRÁRIO"
   ]
  },
  {
   "cell_type": "code",
   "execution_count": 43,
   "metadata": {},
   "outputs": [
    {
     "data": {
      "text/plain": [
       "False"
      ]
     },
     "execution_count": 43,
     "metadata": {},
     "output_type": "execute_result"
    }
   ],
   "source": [
    "\n",
    "\n",
    "eh_multiplo_dez = lambda x: (x % 10) == 0\n",
    "    \n",
    "eh_multiplo_dez(45)\n",
    "\n"
   ]
  },
  {
   "cell_type": "markdown",
   "metadata": {},
   "source": [
    "#CONVERTA O PROGRAMA ADE CALCULO DE FATORIAL DA AULA ANTERIOR PARA UMA FUNÇÃO. A FUNÇÃO RECEBE COMO ARGUMENTO O N E RETORNA O FATORIAL DE N.eh_multiplo_dez"
   ]
  },
  {
   "cell_type": "code",
   "execution_count": 55,
   "metadata": {},
   "outputs": [
    {
     "data": {
      "text/plain": [
       "120"
      ]
     },
     "execution_count": 55,
     "metadata": {},
     "output_type": "execute_result"
    }
   ],
   "source": [
    "\n",
    "'''n = int(input('Informe um número:'))\n",
    "fatorial = 1\n",
    "for i in range(1, n+1):\n",
    "    fatorial *= i\n",
    "    print('O fatorial de n', n, 'é igual a', fatorial)'''\n",
    "\n",
    "def calc_fatorial(n):\n",
    "\n",
    "    fatorial = 1\n",
    "\n",
    "    for i in range(1, n+1):\n",
    "        fatorial *= i\n",
    "    return fatorial    \n",
    "\n",
    "calc_fatorial(5)"
   ]
  },
  {
   "cell_type": "markdown",
   "metadata": {},
   "source": [
    "CRIE UMA FUNÇÃO PRIMEIRO_NOME QUE RECEBE UMA STRING NOME COMPLETO E RETORNO SOMENTE O PRIMEIRO NOME. EM SEGUIDA, USE A FUNÇÃO MAP  PARA APLICAR A FUNÇÃO A UMA LISTA DE STRINGS: nomes = ['Maria Eduarda'',João Carlos', 'Anarute','Ana Clara'] "
   ]
  },
  {
   "cell_type": "code",
   "execution_count": 82,
   "metadata": {},
   "outputs": [
    {
     "name": "stdout",
     "output_type": "stream",
     "text": [
      "['Maria', 'João', 'Ana', 'Ana']\n",
      "['Maria', 'João', 'Ana', 'Ana']\n"
     ]
    }
   ],
   "source": [
    "def primeiro_nome(n):\n",
    "    nome = n.split()\n",
    "    nome1 = nome[0]\n",
    "    return nome1\n",
    "\n",
    "\n",
    "nomes = ['Maria Eduarda','João Carlos', 'Ana Rute','Ana Clara']\n",
    "nome = map(primeiro_nome, nomes)\n",
    "print(list(nome))\n",
    "\n",
    "\n",
    "nome = list(map(primeiro_nome, ['Maria Eduarda','João Carlos', 'Ana Rute','Ana Clara']))\n",
    "print(nome)\n"
   ]
  },
  {
   "cell_type": "markdown",
   "metadata": {},
   "source": [
    " ESCREVA UMA FUNÇÃO QUE RECEBA UMA DATA NO FORMATO DD/MM/AAAA E RETORNO O DIA DA SEMANA CORRESPONDENTE "
   ]
  },
  {
   "cell_type": "code",
   "execution_count": 104,
   "metadata": {},
   "outputs": [
    {
     "name": "stdout",
     "output_type": "stream",
     "text": [
      "Monday\n"
     ]
    }
   ],
   "source": [
    "from datetime import datetime\n",
    "\n",
    "def dia_da_semana(data):\n",
    "    # converte a string para datetime\n",
    "    data = datetime.strptime(data, '%d/%m/%Y')\n",
    "    # formata a data para obter o nome do dia da semana\n",
    "    nome_dia_da_semana = data.strftime('%A')\n",
    "\n",
    "    return nome_dia_da_semana\n",
    "\n",
    "# exemplo de uso da função\n",
    "data = '10/04/2023'\n",
    "print(dia_da_semana(data)) "
   ]
  },
  {
   "cell_type": "code",
   "execution_count": 1,
   "metadata": {},
   "outputs": [
    {
     "name": "stdout",
     "output_type": "stream",
     "text": [
      "Thursday\n"
     ]
    }
   ],
   "source": [
    "from datetime import datetime\n",
    "\n",
    "def dia_da_semana(date):\n",
    "    date = datetime.strptime(date, \"%d/%m/%Y\")\n",
    "    data_formatada = date.strftime('%A')\n",
    "    return data_formatada\n",
    "\n",
    "data = '15/10/1981'\n",
    "print(dia_da_semana(data))\n"
   ]
  }
 ],
 "metadata": {
  "kernelspec": {
   "display_name": "Python 3",
   "language": "python",
   "name": "python3"
  },
  "language_info": {
   "codemirror_mode": {
    "name": "ipython",
    "version": 3
   },
   "file_extension": ".py",
   "mimetype": "text/x-python",
   "name": "python",
   "nbconvert_exporter": "python",
   "pygments_lexer": "ipython3",
   "version": "3.11.1"
  },
  "orig_nbformat": 4
 },
 "nbformat": 4,
 "nbformat_minor": 2
}
