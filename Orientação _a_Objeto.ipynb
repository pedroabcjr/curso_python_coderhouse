{
 "cells": [
  {
   "cell_type": "code",
   "execution_count": 29,
   "metadata": {},
   "outputs": [],
   "source": [
    "#class a objeto\n",
    "\n",
    "class Pessoa:\n",
    "    def __init__(self, nome, idade):\n",
    "        self.nome = nome\n",
    "        self.idade = idade\n",
    "    \n",
    "    #metodo\n",
    "\n",
    "    def falar(self, mensagem):\n",
    "        print(f\"{self.nome} diz: {mensagem}\")\n"
   ]
  },
  {
   "cell_type": "code",
   "execution_count": 30,
   "metadata": {},
   "outputs": [
    {
     "name": "stdout",
     "output_type": "stream",
     "text": [
      "Pedro Alves Bacurau Junior diz: bom dia\n"
     ]
    }
   ],
   "source": [
    "Pedro = Pessoa('Pedro Alves Bacurau Junior', 41)\n",
    "msg = Pedro.falar(\"bom dia\")"
   ]
  },
  {
   "cell_type": "code",
   "execution_count": 20,
   "metadata": {},
   "outputs": [],
   "source": [
    "#herança\n",
    "class Estudante(Pessoa):\n",
    "    pass\n"
   ]
  },
  {
   "cell_type": "code",
   "execution_count": 32,
   "metadata": {},
   "outputs": [
    {
     "name": "stdout",
     "output_type": "stream",
     "text": [
      "Pedro Alves Bacurau Junior diz: bom dia\n"
     ]
    }
   ],
   "source": [
    "Pedro = Estudante('PedroJunior',41)\n",
    "Pedro = Pessoa('Pedro Alves Bacurau Junior', 41)\n",
    "msg = Pedro.falar(\"bom dia\")"
   ]
  },
  {
   "cell_type": "code",
   "execution_count": 40,
   "metadata": {},
   "outputs": [],
   "source": [
    "#encapculamento\n",
    "\n",
    "class Pessoa1:\n",
    "    def __init__(self, nome, idade):\n",
    "        self._nome = nome  # atributo protegido\n",
    "        self._idade = idade  # atributo protegido\n",
    "\n",
    " \n"
   ]
  },
  {
   "cell_type": "code",
   "execution_count": 46,
   "metadata": {},
   "outputs": [],
   "source": [
    "Pedro = Pessoa1('Pedro Alves Bacurau Junior', 41)\n"
   ]
  },
  {
   "cell_type": "code",
   "execution_count": 47,
   "metadata": {},
   "outputs": [],
   "source": [
    "#Polimorfismo:\n",
    "class Animal:\n",
    "    def falar(self):\n",
    "        pass\n",
    "\n",
    "class Cachorro(Animal):\n",
    "    def falar(self):\n",
    "        return \"Au au\"\n",
    "\n",
    "class Gato(Animal):\n",
    "    def falar(self):\n",
    "        return \"Miau\"\n"
   ]
  },
  {
   "cell_type": "code",
   "execution_count": 50,
   "metadata": {},
   "outputs": [
    {
     "data": {
      "text/plain": [
       "'Au au'"
      ]
     },
     "execution_count": 50,
     "metadata": {},
     "output_type": "execute_result"
    }
   ],
   "source": [
    "Bud = Cachorro()\n",
    "latir = Bud.falar()\n",
    "latir"
   ]
  },
  {
   "cell_type": "code",
   "execution_count": null,
   "metadata": {},
   "outputs": [],
   "source": [
    "#class Animal:\n",
    "    def falar(self):\n",
    "        pass\n",
    "\n",
    "class Cachorro(Animal):\n",
    "    def falar(self):\n",
    "        return \"Au au\"\n",
    "\n",
    "class Gato(Animal):\n",
    "    def falar(self):\n",
    "        return \"Miau\"\n"
   ]
  },
  {
   "cell_type": "code",
   "execution_count": 72,
   "metadata": {},
   "outputs": [],
   "source": [
    "#Propriedades (Properties):\n",
    "\n",
    "def nome(self):\n",
    "    return self._nome\n",
    "\n",
    "\n",
    "def nome(self, valor):\n",
    "    self._nome = valor\n",
    "\n"
   ]
  },
  {
   "cell_type": "markdown",
   "metadata": {},
   "source": [
    "Ferramentas Básicas"
   ]
  }
 ],
 "metadata": {
  "kernelspec": {
   "display_name": "Python 3",
   "language": "python",
   "name": "python3"
  },
  "language_info": {
   "codemirror_mode": {
    "name": "ipython",
    "version": 3
   },
   "file_extension": ".py",
   "mimetype": "text/x-python",
   "name": "python",
   "nbconvert_exporter": "python",
   "pygments_lexer": "ipython3",
   "version": "3.11.1"
  },
  "orig_nbformat": 4
 },
 "nbformat": 4,
 "nbformat_minor": 2
}
