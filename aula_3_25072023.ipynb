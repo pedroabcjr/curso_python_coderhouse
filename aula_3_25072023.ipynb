{
 "cells": [
  {
   "cell_type": "code",
   "execution_count": 2,
   "metadata": {},
   "outputs": [
    {
     "name": "stdout",
     "output_type": "stream",
     "text": [
      "3\n",
      "5\n",
      "7\n",
      "9\n",
      "11\n",
      "13\n"
     ]
    }
   ],
   "source": [
    "soma = 1\n",
    "while soma < 12:\n",
    "    soma = soma + 2\n",
    "    print (soma)"
   ]
  },
  {
   "cell_type": "code",
   "execution_count": 4,
   "metadata": {},
   "outputs": [
    {
     "name": "stdout",
     "output_type": "stream",
     "text": [
      "numero impar\n"
     ]
    }
   ],
   "source": [
    "numero = int(input(\"Insira um numero: \"))\n",
    "if numero % 2 == 0:\n",
    "    print(\"numero par\")\n",
    "else:\n",
    "    print(\"numero impar\")"
   ]
  },
  {
   "cell_type": "code",
   "execution_count": 5,
   "metadata": {},
   "outputs": [
    {
     "name": "stdout",
     "output_type": "stream",
     "text": [
      "mata 4\n",
      "cachorro 8\n",
      "morto 5\n"
     ]
    }
   ],
   "source": [
    "frase = input('insira uma frase: ')\n",
    "\n",
    "palavras = frase.split()\n",
    "\n",
    "for palavra in palavras:\n",
    "    tamanho = len(palavra)\n",
    "    print(palavra, tamanho)\n"
   ]
  },
  {
   "cell_type": "code",
   "execution_count": 4,
   "metadata": {},
   "outputs": [],
   "source": [
    "\n",
    "\n",
    "\n"
   ]
  },
  {
   "cell_type": "code",
   "execution_count": null,
   "metadata": {},
   "outputs": [],
   "source": []
  }
 ],
 "metadata": {
  "kernelspec": {
   "display_name": "Python 3",
   "language": "python",
   "name": "python3"
  },
  "language_info": {
   "codemirror_mode": {
    "name": "ipython",
    "version": 3
   },
   "file_extension": ".py",
   "mimetype": "text/x-python",
   "name": "python",
   "nbconvert_exporter": "python",
   "pygments_lexer": "ipython3",
   "version": "3.11.1"
  },
  "orig_nbformat": 4
 },
 "nbformat": 4,
 "nbformat_minor": 2
}
