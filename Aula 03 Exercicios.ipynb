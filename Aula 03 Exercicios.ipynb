{
 "cells": [
  {
   "attachments": {},
   "cell_type": "markdown",
   "metadata": {},
   "source": [
    "# Fundamentos de programação II\n",
    "## Exercicios em Sala"
   ]
  },
  {
   "cell_type": "markdown",
   "metadata": {},
   "source": [
    "1. Escreva um programa que receba um número inteiro e exiba se ele é par ou ímpar."
   ]
  },
  {
   "cell_type": "code",
   "execution_count": 2,
   "metadata": {},
   "outputs": [
    {
     "name": "stdout",
     "output_type": "stream",
     "text": [
      "Par\n"
     ]
    }
   ],
   "source": [
    "num = int(input(\"Digite um número inteiro: \"))\n",
    "if num % 2 == 0:\n",
    "    print(\"Par\")\n",
    "else:\n",
    "    print(\"Ímpar\")"
   ]
  },
  {
   "cell_type": "markdown",
   "metadata": {},
   "source": [
    "2. Escreva um programa em Python que solicita ao usuário uma frase e, em seguida, exibe cada palavra e seu número de caracteres."
   ]
  },
  {
   "cell_type": "code",
   "execution_count": 9,
   "metadata": {},
   "outputs": [
    {
     "name": "stdout",
     "output_type": "stream",
     "text": [
      "daqui 5\n",
      "pra 3\n",
      "frente 6\n",
      "é 1\n",
      "só 2\n",
      "pra 3\n",
      "trás 4\n"
     ]
    }
   ],
   "source": [
    "frase = input(\"Digite uma frase: \")\n",
    "\n",
    "palavras = frase.split()  \n",
    "\n",
    "for palavra in palavras:\n",
    "    tamanho = len(palavra)\n",
    "    print(palavra, tamanho)"
   ]
  },
  {
   "attachments": {},
   "cell_type": "markdown",
   "metadata": {},
   "source": [
    "3. Crie um programa em Python que solicita ao usuário uma senha numérica de 4 dígitos. O programa deve repetir essa solicitação até que o usuário informe a senha correta (1234)."
   ]
  },
  {
   "cell_type": "code",
   "execution_count": 3,
   "metadata": {},
   "outputs": [
    {
     "name": "stdout",
     "output_type": "stream",
     "text": [
      "Senha correta!\n"
     ]
    }
   ],
   "source": [
    "senha = input(\"Digite a senha numérica de 4 dígitos: \")\n",
    "while senha != \"1234\":\n",
    "    senha = input(\"Senha incorreta. Digite a senha numérica de 4 dígitos novamente: \")\n",
    "print(\"Senha correta!\")"
   ]
  },
  {
   "cell_type": "markdown",
   "metadata": {},
   "source": [
    "4. Escreva um programa que dado um valor n calcula o fatorial de n. "
   ]
  },
  {
   "cell_type": "code",
   "execution_count": 4,
   "metadata": {},
   "outputs": [
    {
     "name": "stdout",
     "output_type": "stream",
     "text": [
      "O fatorial de 5 é 120\n"
     ]
    }
   ],
   "source": [
    "n = int(input(\"Digite um número inteiro: \"))\n",
    "fatorial = 1\n",
    "\n",
    "for i in range(1, n+1):\n",
    "    fatorial *= i\n",
    "\n",
    "print(\"O fatorial de\", n, \"é\", fatorial)"
   ]
  },
  {
   "cell_type": "code",
   "execution_count": null,
   "metadata": {},
   "outputs": [],
   "source": []
  },
  {
   "cell_type": "code",
   "execution_count": null,
   "metadata": {},
   "outputs": [],
   "source": []
  }
 ],
 "metadata": {
  "kernelspec": {
   "display_name": "Python 3",
   "language": "python",
   "name": "python3"
  },
  "language_info": {
   "codemirror_mode": {
    "name": "ipython",
    "version": 3
   },
   "file_extension": ".py",
   "mimetype": "text/x-python",
   "name": "python",
   "nbconvert_exporter": "python",
   "pygments_lexer": "ipython3",
   "version": "3.10.8"
  },
  "orig_nbformat": 4
 },
 "nbformat": 4,
 "nbformat_minor": 2
}
